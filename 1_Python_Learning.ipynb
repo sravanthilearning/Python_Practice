{
  "nbformat": 4,
  "nbformat_minor": 0,
  "metadata": {
    "colab": {
      "provenance": [],
      "authorship_tag": "ABX9TyPnhecYS+sb1kZywC6jtyuX",
      "include_colab_link": true
    },
    "kernelspec": {
      "name": "python3",
      "display_name": "Python 3"
    },
    "language_info": {
      "name": "python"
    }
  },
  "cells": [
    {
      "cell_type": "markdown",
      "metadata": {
        "id": "view-in-github",
        "colab_type": "text"
      },
      "source": [
        "<a href=\"https://colab.research.google.com/github/sravanthilearning/Python_Practice/blob/main/1_Python_Learning.ipynb\" target=\"_parent\"><img src=\"https://colab.research.google.com/assets/colab-badge.svg\" alt=\"Open In Colab\"/></a>"
      ]
    },
    {
      "cell_type": "code",
      "execution_count": null,
      "metadata": {
        "id": "Yo2Tm3MnZkVv"
      },
      "outputs": [],
      "source": [
        "# prompt: Python basics\n",
        "\n",
        "# Print a simple message\n",
        "print('Hello, Python!')\n",
        "\n",
        "# Assign a value to a variable\n",
        "x = 2\n",
        "\n",
        "# Perform basic arithmetic operations\n",
        "y = x + 3\n",
        "print(y)\n",
        "\n",
        "# Use conditional statements\n",
        "if x > y:\n",
        "  print('x is greater than y')\n",
        "else:\n",
        "  print('y is greater than or equal to x')\n",
        "\n",
        "# Use loops to iterate over sequences\n",
        "for i in range(5):\n",
        "  print(i)\n",
        "\n",
        "# Define functions to reuse code\n",
        "def greet(name):\n",
        "  print('Hello, ' + name + '!')\n",
        "\n",
        "greet('Alice')\n"
      ]
    },
    {
      "cell_type": "code",
      "source": [
        "# prompt: Python string functions examples using reversed()\n",
        "\n",
        "# Create a string\n",
        "string = \"Geeks\"\n",
        "\n",
        "# Convert the string to a list of characters\n",
        "list_of_chars = list(string)\n",
        "\n",
        "# Reverse the list of characters using reversed()\n",
        "reversed_list = reversed(list_of_chars)\n",
        "\n",
        "# Convert the reversed list back to a string\n",
        "reversed_string = ''.join(reversed_list)\n",
        "\n",
        "# Print the reversed string\n",
        "print(\"The reversed string is:\", reversed_string)\n"
      ],
      "metadata": {
        "id": "v3QYSgU3Z-AN"
      },
      "execution_count": null,
      "outputs": []
    }
  ]
}