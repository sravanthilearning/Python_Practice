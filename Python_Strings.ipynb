{
  "nbformat": 4,
  "nbformat_minor": 0,
  "metadata": {
    "colab": {
      "provenance": [],
      "authorship_tag": "ABX9TyNy2BvL34aaISOTaRJTNYOF",
      "include_colab_link": true
    },
    "kernelspec": {
      "name": "python3",
      "display_name": "Python 3"
    },
    "language_info": {
      "name": "python"
    }
  },
  "cells": [
    {
      "cell_type": "markdown",
      "metadata": {
        "id": "view-in-github",
        "colab_type": "text"
      },
      "source": [
        "<a href=\"https://colab.research.google.com/github/sravanthilearning/Python_Practice/blob/main/Python_Strings.ipynb\" target=\"_parent\"><img src=\"https://colab.research.google.com/assets/colab-badge.svg\" alt=\"Open In Colab\"/></a>"
      ]
    },
    {
      "cell_type": "markdown",
      "source": [
        "String Slice Operators:\n",
        "\n",
        "Python language has Positive and Negative index's which no other language has got. Let's see some String challenges using Slice operator"
      ],
      "metadata": {
        "id": "MGcKe-ryNDE0"
      }
    },
    {
      "cell_type": "markdown",
      "source": [
        "1. Extract a piece of sub-string"
      ],
      "metadata": {
        "id": "wKnQ0B-UNXfm"
      }
    },
    {
      "cell_type": "code",
      "execution_count": null,
      "metadata": {
        "colab": {
          "base_uri": "https://localhost:8080/"
        },
        "id": "89cOUVuCNCTV",
        "outputId": "e150c86b-8698-4743-9798-10ec352bc53b"
      },
      "outputs": [
        {
          "output_type": "stream",
          "name": "stdout",
          "text": [
            "blessed\n",
            "blessed i'm to have the family i've got?\n",
            "blessed i'm\n"
          ]
        }
      ],
      "source": [
        "s= \"How blessed i'm to have the family i've got?\"\n",
        "output= s[4:11] # The syntax is string[StartIndex: EndIndex+1] EndIndex will retrieve 1 lesser value. Hence if you need 'd'\n",
        "# in this case, we need to specify the end-index as 11\n",
        "print(output)\n",
        "\n",
        "output1=s[4:]\n",
        "print(output1)\n",
        "output2=s[4:15]\n",
        "print(output2)"
      ]
    },
    {
      "cell_type": "markdown",
      "source": [
        "2. Using Postive and Negative Index's"
      ],
      "metadata": {
        "id": "KRyxkkgqO11c"
      }
    },
    {
      "cell_type": "markdown",
      "source": [
        "#String - * operator"
      ],
      "metadata": {
        "id": "2HQp163CjMAQ"
      }
    },
    {
      "cell_type": "code",
      "source": [
        "s=\"sam\" *3\n",
        "print(s)\n"
      ],
      "metadata": {
        "colab": {
          "base_uri": "https://localhost:8080/"
        },
        "id": "rGNF2mKFi8_N",
        "outputId": "956f12d4-a69d-440c-84cb-b74f4e8b4c5d"
      },
      "execution_count": null,
      "outputs": [
        {
          "output_type": "stream",
          "name": "stdout",
          "text": [
            "samsamsam\n"
          ]
        }
      ]
    },
    {
      "cell_type": "code",
      "source": [
        "s=\"aaradhya\"\n",
        "a=\"sravanthi\"\n",
        "print(s[0])\n",
        "print(s[-1])\n",
        "print(len(s))\n",
        "print(len(a))\n",
        "print(s + a)"
      ],
      "metadata": {
        "colab": {
          "base_uri": "https://localhost:8080/"
        },
        "id": "dd8E_thLGukx",
        "outputId": "58e7d314-8c44-44bd-cacf-f00f2cb8ba31"
      },
      "execution_count": 8,
      "outputs": [
        {
          "output_type": "stream",
          "name": "stdout",
          "text": [
            "a\n",
            "a\n",
            "8\n",
            "9\n",
            "aaradhyasravanthi\n"
          ]
        }
      ]
    },
    {
      "cell_type": "code",
      "source": [
        "# How to extract 'dhya' and 'nthi' from both the strings and concatenate them together\n",
        "s=\"aaradhya\"\n",
        "a=\"sravanthi\"\n",
        "print(s[0])"
      ],
      "metadata": {
        "id": "mgwqPei4HFNt"
      },
      "execution_count": null,
      "outputs": []
    },
    {
      "cell_type": "code",
      "source": [
        "# 2.1 First letter should be Upper-case\n",
        "output=s[0].upper() + s[1:]\n",
        "print(output)"
      ],
      "metadata": {
        "colab": {
          "base_uri": "https://localhost:8080/"
        },
        "id": "iUfcVCyrGuXg",
        "outputId": "a42358da-9be3-4723-f218-751f3e59e1e1"
      },
      "execution_count": 9,
      "outputs": [
        {
          "output_type": "stream",
          "name": "stdout",
          "text": [
            "Aaradhya\n"
          ]
        }
      ]
    },
    {
      "cell_type": "code",
      "source": [],
      "metadata": {
        "id": "fKc8jBi2GuFO"
      },
      "execution_count": null,
      "outputs": []
    },
    {
      "cell_type": "code",
      "source": [
        "\n",
        "\n",
        "\n",
        "\n",
        "# 2.2 First and Last letters should be Upper-case\n",
        "output1 = s[0].upper() + s[1:len(s)-1] + s[-1].upper()  #len(string) retrieves the length of the string\n",
        "print(len(s))\n",
        "print(output1)\n",
        "\n",
        "# 2.3 Retrieve the whole string\n",
        "output2= s[:] # If there is no Start and End index, then it retrieves the whole string\n",
        "print(output2)\n",
        "\n",
        "print(s[:1000]) # Whatever maximum could be the end-index, it still retrieves the complete string if it goes beyond the end-index range\n",
        "\n",
        "# 2.4 Reverse the string\n",
        "output3= s[::-1]\n",
        "print(output3)\n",
        "\n",
        "# Figure the output\n",
        "output4= s[9:1]\n",
        "print(output4) # The result is going to be empty\n",
        "\n"
      ],
      "metadata": {
        "colab": {
          "base_uri": "https://localhost:8080/"
        },
        "id": "8r7AKYL-O6Ea",
        "outputId": "d4376762-d6f1-4db9-b0e6-9ab226db9f63"
      },
      "execution_count": 4,
      "outputs": [
        {
          "output_type": "stream",
          "name": "stdout",
          "text": [
            "a\n",
            "a\n",
            "Aaradhya\n",
            "AaradhyA\n",
            "aaradhya\n",
            "aaradhya\n",
            "ayhdaraa\n",
            "\n"
          ]
        }
      ]
    },
    {
      "cell_type": "markdown",
      "source": [],
      "metadata": {
        "id": "32kv-fmjOb30"
      }
    },
    {
      "cell_type": "markdown",
      "source": [
        "# +, * Operators"
      ],
      "metadata": {
        "id": "wwMg2Y8ACUw8"
      }
    },
    {
      "cell_type": "markdown",
      "source": [
        "# '+' Operator works only on Strings\n",
        ""
      ],
      "metadata": {
        "id": "S0fJLtMmEVKD"
      }
    },
    {
      "cell_type": "markdown",
      "source": [],
      "metadata": {
        "id": "PvSK8zbyE8MW"
      }
    },
    {
      "cell_type": "code",
      "source": [
        "  s= 'Sravanthi' + 'Munna'\n",
        "print(s)\n",
        "# s1= \"Sravanthi\" + 3\n",
        "#print(s1)\n",
        "# The above one is an error because + operator in Python always accepts Strings\n"
      ],
      "metadata": {
        "colab": {
          "base_uri": "https://localhost:8080/"
        },
        "id": "Dli1-LkkCUlH",
        "outputId": "367dc74f-8ba4-4580-9ebd-cbd4b8f792b4"
      },
      "execution_count": null,
      "outputs": [
        {
          "output_type": "stream",
          "name": "stdout",
          "text": [
            "SravanthiMunna\n"
          ]
        }
      ]
    },
    {
      "cell_type": "markdown",
      "source": [
        "# * Operator"
      ],
      "metadata": {
        "id": "0risqCR8FJpR"
      }
    },
    {
      "cell_type": "code",
      "source": [
        "s = 'Sravanthi' * 2\n",
        "print(s)\n",
        "# Please note that * operator only works on one string and one integer. It will error out if there are 2 strings. Then where can we use this?\n",
        "\n",
        "s1 ='#' * 10\n",
        "s2 ='Sravanthi**Aaradhya**Munna'\n",
        "s3 ='#' * 10\n",
        "print(s1+s2+s3)"
      ],
      "metadata": {
        "colab": {
          "base_uri": "https://localhost:8080/"
        },
        "id": "DIW0cHG_FCoO",
        "outputId": "04191293-4b8f-496b-d0eb-ce53729624be"
      },
      "execution_count": null,
      "outputs": [
        {
          "output_type": "stream",
          "name": "stdout",
          "text": [
            "SravanthiSravanthi\n",
            "##########Sravanthi**Aaradhya**Munna##########\n"
          ]
        }
      ]
    }
  ]
}